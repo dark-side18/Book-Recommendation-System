/*importing useful libraries*/

import pandas as pd
import csv
import numpy as np
from scipy.sparse import csr_matrix
from sklearn.decomposition import TruncatedSVD

/*preparing dataframes from csv files and take out the useful imformation from it*/

book=pd.read_csv('BX-Books.csv',sep=';', error_bad_lines=False, encoding="latin-1",header=0)
book.columns=['ISBN','booktitle','bookauthor','yearofpublication','publisher','imageurls','imageurlm','imageurll']
user=pd.read_csv('BX-Users.csv',sep=';', error_bad_lines=False,encoding="latin-1",header=0)
user.columns=['userID','Location','Age']
rating=pd.read_csv('BX-Book-Ratings.csv',sep=';', error_bad_lines=False,encoding="latin-1",header=0)
rating.columns=['userID','ISBN','bookrating']
combine_book_rating=pd.merge(rating,book,on='ISBN')
columns=['yearofpublication','publisher','bookauthor','imageurls','imageurlm','imageurll']
combine_book_rating=combine_book_rating.drop(columns,axis=1)
combine_book_rating=combine_book_rating.dropna(axis=0,subset=['booktitle'])
book_ratingcount=(combine_book_rating.
                 groupby(by=['booktitle'])['bookrating'].
                 count().
                 reset_index().
                 rename(columns={'bookrating':'totalratingcount'})
                 [['booktitle','totalratingcount']]
                 )
popularity_threshold=10
book_ratingcount=book_ratingcount.query('totalratingcount>=@popularity_threshold')
rating_with_totalratingcount=combine_book_rating.merge(book_ratingcount,left_on='booktitle',right_on='booktitle',how='left')
rating_with_totalratingcount.head()

/*popularity threshold is setting up to prevent the code from biasing between the ratings*/

popularity_threshold=40
rating_popular_book=rating_with_totalratingcount.query('totalratingcount>=@popularity_threshold')
user_rating_pivot=rating_popular_book.pivot_table(index='booktitle',columns='userID',values='bookrating').fillna(0)
user_rating_matrix=csr_matrix(user_rating_pivot.values)

/*using KNN algorithm to find out the most related book which is entered*/

from sklearn.neighbors import NearestNeighbors
model_knn=NearestNeighbors(metric='cosine',algorithm='brute')
model_knn.fit(user_rating_matrix)
query_index=np.random.choice(user_rating_pivot.shape[0])
distances,indices=model_knn.kneighbors(user_rating_pivot.iloc[query_index, :].values.reshape(1,-1), n_neighbors=6)

/*this loop would give the most related books from the book you've read*/
for i in range(0, len(distances.flatten())):
    if i==0:
        print('Recommendations for {0}:\n'.format(user_rating_pivot.index[query_index]))
    else:
        print('{0}:{1},with distance of {2}:'.format(i,user_rating_pivot.index[indices.flatten()[i]],distances.flatten()[i]))
